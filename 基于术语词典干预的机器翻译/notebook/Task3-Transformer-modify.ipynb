{
 "cells": [
  {
   "cell_type": "markdown",
   "metadata": {},
   "source": [
    "## 环境配置"
   ]
  },
  {
   "cell_type": "code",
   "execution_count": 1,
   "metadata": {
    "ExecutionIndicator": {
     "show": true
    },
    "execution": {
     "iopub.execute_input": "2024-07-19T06:20:36.510341Z",
     "iopub.status.busy": "2024-07-19T06:20:36.510058Z",
     "iopub.status.idle": "2024-07-19T06:20:36.513470Z",
     "shell.execute_reply": "2024-07-19T06:20:36.512803Z",
     "shell.execute_reply.started": "2024-07-19T06:20:36.510310Z"
    },
    "scrolled": true,
    "tags": []
   },
   "outputs": [],
   "source": [
    "# !mkdir ../model\n",
    "# !mkdir ../results\n",
    "# !pip install torchtext\n",
    "# !pip install jieba\n",
    "# !pip install sacrebleu"
   ]
  },
  {
   "cell_type": "code",
   "execution_count": 2,
   "metadata": {
    "execution": {
     "iopub.execute_input": "2024-07-19T06:20:36.515549Z",
     "iopub.status.busy": "2024-07-19T06:20:36.515165Z",
     "iopub.status.idle": "2024-07-19T06:20:37.717373Z",
     "shell.execute_reply": "2024-07-19T06:20:37.716604Z",
     "shell.execute_reply.started": "2024-07-19T06:20:36.515517Z"
    }
   },
   "outputs": [
    {
     "name": "stderr",
     "output_type": "stream",
     "text": [
      "/usr/local/lib/python3.10/site-packages/torchtext/data/__init__.py:4: UserWarning: \n",
      "/!\\ IMPORTANT WARNING ABOUT TORCHTEXT STATUS /!\\ \n",
      "Torchtext is deprecated and the last released version will be 0.18 (this one). You can silence this warning by calling the following at the beginnign of your scripts: `import torchtext; torchtext.disable_torchtext_deprecation_warning()`\n",
      "  warnings.warn(torchtext._TORCHTEXT_DEPRECATION_MSG)\n",
      "/usr/local/lib/python3.10/site-packages/torchtext/vocab/__init__.py:4: UserWarning: \n",
      "/!\\ IMPORTANT WARNING ABOUT TORCHTEXT STATUS /!\\ \n",
      "Torchtext is deprecated and the last released version will be 0.18 (this one). You can silence this warning by calling the following at the beginnign of your scripts: `import torchtext; torchtext.disable_torchtext_deprecation_warning()`\n",
      "  warnings.warn(torchtext._TORCHTEXT_DEPRECATION_MSG)\n",
      "/usr/local/lib/python3.10/site-packages/torchtext/utils.py:4: UserWarning: \n",
      "/!\\ IMPORTANT WARNING ABOUT TORCHTEXT STATUS /!\\ \n",
      "Torchtext is deprecated and the last released version will be 0.18 (this one). You can silence this warning by calling the following at the beginnign of your scripts: `import torchtext; torchtext.disable_torchtext_deprecation_warning()`\n",
      "  warnings.warn(torchtext._TORCHTEXT_DEPRECATION_MSG)\n"
     ]
    }
   ],
   "source": [
    "import torch\n",
    "import torch.nn as nn\n",
    "import torch.nn.functional as F\n",
    "import torch.optim as optim\n",
    "from torch.nn.utils import clip_grad_norm_\n",
    "from torchtext.data.metrics import bleu_score\n",
    "from torch.utils.data import Dataset, DataLoader\n",
    "from torchtext.data.utils import get_tokenizer\n",
    "from torchtext.vocab import build_vocab_from_iterator\n",
    "from typing import List, Tuple\n",
    "import jieba\n",
    "import random\n",
    "from torch.nn.utils.rnn import pad_sequence\n",
    "import sacrebleu\n",
    "import time\n",
    "import math\n",
    "import re\n",
    "\n",
    "from collections import Counter\n"
   ]
  },
  {
   "cell_type": "markdown",
   "metadata": {},
   "source": [
    "安装spacy用于英文的tokenizer，不同环境的安装请参考：https://spacy.io/usage\n",
    "en_core_web_sm是用于英文的语言包，由于命令`!python -m spacy download en_core_web_sm`安装有点慢，这里可以离线安装：https://github.com/explosion/spacy-models/releases，下载压缩包后，上传到dataset目录，然后使用`!pip install ../dataset/en_core_web_sm`，en_core_web_sm 3.7.3版本的要求 spaCy >=3.7.2,<3.8.0\n"
   ]
  },
  {
   "cell_type": "code",
   "execution_count": 3,
   "metadata": {
    "execution": {
     "iopub.execute_input": "2024-07-19T06:20:37.718393Z",
     "iopub.status.busy": "2024-07-19T06:20:37.718154Z",
     "iopub.status.idle": "2024-07-19T06:20:37.722190Z",
     "shell.execute_reply": "2024-07-19T06:20:37.721581Z",
     "shell.execute_reply.started": "2024-07-19T06:20:37.718376Z"
    }
   },
   "outputs": [],
   "source": [
    "# !pip install -U pip setuptools wheel -i https://pypi.tuna.tsinghua.edu.cn/simple\n",
    "# !pip install -U 'spacy[cuda12x]' -i https://pypi.tuna.tsinghua.edu.cn/simple\n",
    "# !pip install ../dataset/en_core_web_trf-3.7.3-py3-none-any.whl\n",
    "# !python -m spacy download en_core_web_sm"
   ]
  },
  {
   "cell_type": "markdown",
   "metadata": {},
   "source": [
    "## 数据预处理"
   ]
  },
  {
   "cell_type": "code",
   "execution_count": 4,
   "metadata": {
    "execution": {
     "iopub.execute_input": "2024-07-19T06:20:37.723061Z",
     "iopub.status.busy": "2024-07-19T06:20:37.722837Z",
     "iopub.status.idle": "2024-07-19T06:20:41.857593Z",
     "shell.execute_reply": "2024-07-19T06:20:41.856984Z",
     "shell.execute_reply.started": "2024-07-19T06:20:37.723043Z"
    }
   },
   "outputs": [
    {
     "name": "stderr",
     "output_type": "stream",
     "text": [
      "/usr/local/lib/python3.10/site-packages/tqdm/auto.py:21: TqdmWarning: IProgress not found. Please update jupyter and ipywidgets. See https://ipywidgets.readthedocs.io/en/stable/user_install.html\n",
      "  from .autonotebook import tqdm as notebook_tqdm\n"
     ]
    }
   ],
   "source": [
    "# 定义tokenizer\n",
    "en_tokenizer = get_tokenizer('spacy', language='en_core_web_trf')\n",
    "zh_tokenizer = lambda x: list(jieba.cut(x))  # 使用jieba分词"
   ]
  },
  {
   "cell_type": "code",
   "execution_count": 5,
   "metadata": {
    "execution": {
     "iopub.execute_input": "2024-07-19T06:20:41.858729Z",
     "iopub.status.busy": "2024-07-19T06:20:41.858386Z",
     "iopub.status.idle": "2024-07-19T06:20:41.865673Z",
     "shell.execute_reply": "2024-07-19T06:20:41.864955Z",
     "shell.execute_reply.started": "2024-07-19T06:20:41.858709Z"
    }
   },
   "outputs": [],
   "source": [
    "# 读取数据函数\n",
    "def read_data(file_path: str) -> List[str]:\n",
    "    with open(file_path, 'r', encoding='utf-8') as f:\n",
    "        return [line.strip() for line in f]\n",
    "\n",
    "# 数据预处理函数\n",
    "# def preprocess_data(en_data: List[str], zh_data: List[str],terminology) -> List[Tuple[List[str], List[str]]]:\n",
    "#     processed_data = []\n",
    "#     for en, zh in zip(en_data, zh_data):\n",
    "#         zh = re.sub(\"\\(.*?\\)|（.*?\\）\",\"\",zh)\n",
    "#         # en_tokens = en_tokenizer(en.lower())[:MAX_LENGTH]\n",
    "#         # zh_tokens = zh_tokenizer(zh)[:MAX_LENGTH]\n",
    "#         en_vocab = Counter(terminology.keys())  # 确保术语在词汇表中\n",
    "#         zh_vocab = Counter()\n",
    "#         en_vocab.update(en_tokenizer(en))\n",
    "#         zh_vocab.update(zh_tokenizer(zh))\n",
    "#         # if en_tokens and zh_tokens:  # 确保两个序列都不为空\n",
    "#         #     processed_data.append((en_tokens, zh_tokens))\n",
    "#         if en_vocab and zh_vocab:\n",
    "#             processed_data.append((en_vocab, zh_vocab))\n",
    "#     return processed_data\n",
    "def preprocess_data(en_data: List[str], zh_data: List[str]) -> List[Tuple[List[str], List[str]]]:\n",
    "    processed_data = []\n",
    "    for en, zh in zip(en_data, zh_data):\n",
    "        zh = re.sub(\"\\(.*?\\)|（.*?\\）\",\"\",zh)\n",
    "        en_tokens = en_tokenizer(en.lower())[:MAX_LENGTH]\n",
    "        zh_tokens = zh_tokenizer(zh)[:MAX_LENGTH]\n",
    "        if en_tokens and zh_tokens:  # 确保两个序列都不为空\n",
    "            processed_data.append((en_tokens, zh_tokens))\n",
    "    return processed_data\n",
    "\n",
    "# 构建词汇表\n",
    "def build_vocab(data: List[Tuple[List[str], List[str]]]):\n",
    "    en_vocab = build_vocab_from_iterator(\n",
    "        (en for en, _ in data),\n",
    "        specials=['<unk>', '<pad>', '<bos>', '<eos>']\n",
    "    )\n",
    "    zh_vocab = build_vocab_from_iterator(\n",
    "        (zh for _, zh in data),\n",
    "        specials=['<unk>', '<pad>', '<bos>', '<eos>']\n",
    "    )\n",
    "    en_vocab.set_default_index(en_vocab['<unk>'])\n",
    "    zh_vocab.set_default_index(zh_vocab['<unk>'])\n",
    "    return en_vocab, zh_vocab\n",
    "\n"
   ]
  },
  {
   "cell_type": "code",
   "execution_count": 6,
   "metadata": {
    "execution": {
     "iopub.execute_input": "2024-07-19T06:20:41.866445Z",
     "iopub.status.busy": "2024-07-19T06:20:41.866293Z",
     "iopub.status.idle": "2024-07-19T06:20:41.870571Z",
     "shell.execute_reply": "2024-07-19T06:20:41.869953Z",
     "shell.execute_reply.started": "2024-07-19T06:20:41.866430Z"
    }
   },
   "outputs": [
    {
     "name": "stdout",
     "output_type": "stream",
     "text": [
      "(这是)删除，（这也是）删除\n",
      "删除，删除\n"
     ]
    }
   ],
   "source": [
    "zh ='(这是)删除，（这也是）删除'\n",
    "zhd = re.sub(\"\\(.*?\\)|（.*?\\）\",\"\",zh)\n",
    "print(zh)\n",
    "print(zhd)"
   ]
  },
  {
   "cell_type": "code",
   "execution_count": 7,
   "metadata": {
    "execution": {
     "iopub.execute_input": "2024-07-19T06:20:41.872452Z",
     "iopub.status.busy": "2024-07-19T06:20:41.872252Z",
     "iopub.status.idle": "2024-07-19T06:20:41.876563Z",
     "shell.execute_reply": "2024-07-19T06:20:41.875950Z",
     "shell.execute_reply.started": "2024-07-19T06:20:41.872437Z"
    }
   },
   "outputs": [],
   "source": [
    "\n",
    "class TranslationDataset(Dataset):\n",
    "    def __init__(self, data: List[Tuple[List[str], List[str]]], en_vocab, zh_vocab):\n",
    "        self.data = data\n",
    "        self.en_vocab = en_vocab\n",
    "        self.zh_vocab = zh_vocab\n",
    "\n",
    "    def __len__(self):\n",
    "        return len(self.data)\n",
    "\n",
    "    def __getitem__(self, idx):\n",
    "        en, zh = self.data[idx]\n",
    "        en_indices = [self.en_vocab['<bos>']] + [self.en_vocab[token] for token in en] + [self.en_vocab['<eos>']]\n",
    "        zh_indices = [self.zh_vocab['<bos>']] + [self.zh_vocab[token] for token in zh] + [self.zh_vocab['<eos>']]\n",
    "        return en_indices, zh_indices\n"
   ]
  },
  {
   "cell_type": "code",
   "execution_count": 8,
   "metadata": {
    "execution": {
     "iopub.execute_input": "2024-07-19T06:20:41.877277Z",
     "iopub.status.busy": "2024-07-19T06:20:41.877130Z",
     "iopub.status.idle": "2024-07-19T06:20:41.881454Z",
     "shell.execute_reply": "2024-07-19T06:20:41.880956Z",
     "shell.execute_reply.started": "2024-07-19T06:20:41.877263Z"
    }
   },
   "outputs": [],
   "source": [
    "def collate_fn(batch):\n",
    "    en_batch, zh_batch = [], []\n",
    "    for en_item, zh_item in batch:\n",
    "        if en_item and zh_item:  # 确保两个序列都不为空\n",
    "            # print(\"都不为空\")\n",
    "            en_batch.append(torch.tensor(en_item))\n",
    "            zh_batch.append(torch.tensor(zh_item))\n",
    "        else:\n",
    "            print(\"存在为空\")\n",
    "    if not en_batch or not zh_batch:  # 如果整个批次为空，返回空张量\n",
    "        return torch.tensor([]), torch.tensor([])\n",
    "    \n",
    "    # src_sequences = [item[0] for item in batch]\n",
    "    # trg_sequences = [item[1] for item in batch]\n",
    "    \n",
    "    en_batch = nn.utils.rnn.pad_sequence(en_batch, batch_first=True, padding_value=en_vocab['<pad>'])\n",
    "    zh_batch = nn.utils.rnn.pad_sequence(zh_batch, batch_first=True, padding_value=zh_vocab['<pad>'])\n",
    "\n",
    "    # en_batch = pad_sequence(en_batch, batch_first=True, padding_value=en_vocab['<pad>'])\n",
    "    # zh_batch = pad_sequence(zh_batch, batch_first=True, padding_value=zh_vocab['<pad>'])\n",
    "    \n",
    "    return en_batch, zh_batch"
   ]
  },
  {
   "cell_type": "code",
   "execution_count": 9,
   "metadata": {
    "execution": {
     "iopub.execute_input": "2024-07-19T06:20:41.882272Z",
     "iopub.status.busy": "2024-07-19T06:20:41.882070Z",
     "iopub.status.idle": "2024-07-19T06:20:41.885386Z",
     "shell.execute_reply": "2024-07-19T06:20:41.884951Z",
     "shell.execute_reply.started": "2024-07-19T06:20:41.882256Z"
    }
   },
   "outputs": [],
   "source": [
    "# 新增术语词典加载部分\n",
    "def load_terminology_dictionary(dict_file):\n",
    "    terminology = {}\n",
    "    with open(dict_file, 'r', encoding='utf-8') as f:\n",
    "        for line in f:\n",
    "            en_term, ch_term = line.strip().split('\\t')\n",
    "            terminology[en_term] = ch_term\n",
    "    return terminology"
   ]
  },
  {
   "cell_type": "code",
   "execution_count": 10,
   "metadata": {
    "execution": {
     "iopub.execute_input": "2024-07-19T06:20:41.886304Z",
     "iopub.status.busy": "2024-07-19T06:20:41.886105Z",
     "iopub.status.idle": "2024-07-19T06:20:41.895565Z",
     "shell.execute_reply": "2024-07-19T06:20:41.894966Z",
     "shell.execute_reply.started": "2024-07-19T06:20:41.886288Z"
    }
   },
   "outputs": [],
   "source": [
    "# 数据加载函数\n",
    "def load_data(train_path: str, dev_en_path: str, dev_zh_path: str, test_en_path: str):\n",
    "\n",
    "    terminology = load_terminology_dictionary('../dataset/en-zh.dic')\n",
    "    \n",
    "    # 读取训练数据\n",
    "    train_data = read_data(train_path)\n",
    "    train_en, train_zh = zip(*(line.split('\\t') for line in train_data))\n",
    "    \n",
    "    # 读取开发集和测试集\n",
    "    dev_en = read_data(dev_en_path)\n",
    "    dev_zh = read_data(dev_zh_path)\n",
    "    test_en = read_data(test_en_path)\n",
    "\n",
    "    # 预处理数据\n",
    "    # train_processed = preprocess_data(train_en, train_zh,terminology)\n",
    "    # dev_processed = preprocess_data(dev_en, dev_zh,terminology)\n",
    "    train_processed = preprocess_data(train_en, train_zh)\n",
    "    dev_processed = preprocess_data(dev_en, dev_zh)\n",
    "    test_processed = [(en_tokenizer(en.lower())[:MAX_LENGTH], []) for en in test_en if en.strip()]\n",
    "\n",
    "    # 构建词汇表\n",
    "    global en_vocab, zh_vocab\n",
    "    en_vocab, zh_vocab = build_vocab(train_processed)\n",
    "    \n",
    "    \n",
    "\n",
    "    # 创建数据集\n",
    "    train_dataset = TranslationDataset(train_processed, en_vocab, zh_vocab)\n",
    "    dev_dataset = TranslationDataset(dev_processed, en_vocab, zh_vocab)\n",
    "    test_dataset = TranslationDataset(test_processed, en_vocab, zh_vocab)\n",
    "    \n",
    "    from torch.utils.data import Subset\n",
    "\n",
    "    # 假设你有10000个样本，你只想用前1000个样本进行测试\n",
    "    indices = list(range(N))\n",
    "    train_dataset = Subset(train_dataset, indices)\n",
    "\n",
    "    # 创建数据加载器\n",
    "    train_loader = DataLoader(train_dataset, batch_size=BATCH_SIZE, shuffle=True, collate_fn=collate_fn, drop_last=True)\n",
    "    dev_loader = DataLoader(dev_dataset, batch_size=BATCH_SIZE, collate_fn=collate_fn, drop_last=True)\n",
    "    test_loader = DataLoader(test_dataset, batch_size=1, collate_fn=collate_fn, drop_last=True)\n",
    "\n",
    "    return train_loader, dev_loader, test_loader, en_vocab, zh_vocab"
   ]
  },
  {
   "cell_type": "markdown",
   "metadata": {},
   "source": [
    "## 模型构建"
   ]
  },
  {
   "cell_type": "code",
   "execution_count": 11,
   "metadata": {
    "execution": {
     "iopub.execute_input": "2024-07-19T06:20:41.896459Z",
     "iopub.status.busy": "2024-07-19T06:20:41.896250Z",
     "iopub.status.idle": "2024-07-19T06:20:42.005623Z",
     "shell.execute_reply": "2024-07-19T06:20:42.004954Z",
     "shell.execute_reply.started": "2024-07-19T06:20:41.896441Z"
    }
   },
   "outputs": [],
   "source": [
    "class PositionalEncoding(nn.Module):\n",
    "    def __init__(self, d_model, dropout=0.1, max_len=5000):\n",
    "        super(PositionalEncoding, self).__init__()\n",
    "        self.dropout = nn.Dropout(p=dropout)\n",
    "\n",
    "        pe = torch.zeros(max_len, d_model)\n",
    "        position = torch.arange(0, max_len, dtype=torch.float).unsqueeze(1)\n",
    "        div_term = torch.exp(torch.arange(0, d_model, 2).float() * (-math.log(10000.0) / d_model))\n",
    "        pe[:, 0::2] = torch.sin(position * div_term)\n",
    "        pe[:, 1::2] = torch.cos(position * div_term)\n",
    "        pe = pe.unsqueeze(0).transpose(0, 1)\n",
    "        self.register_buffer('pe', pe)\n",
    "\n",
    "    def forward(self, x):\n",
    "        x = x + self.pe[:x.size(0), :]\n",
    "        return self.dropout(x)\n",
    "\n",
    "class TransformerModel(nn.Module):\n",
    "    def __init__(self, src_vocab, tgt_vocab, d_model, nhead, num_encoder_layers, num_decoder_layers, dim_feedforward, dropout):\n",
    "        super(TransformerModel, self).__init__()\n",
    "        self.transformer = nn.Transformer(d_model, nhead, num_encoder_layers, num_decoder_layers, dim_feedforward, dropout)\n",
    "        self.src_embedding = nn.Embedding(len(src_vocab), d_model)\n",
    "        self.tgt_embedding = nn.Embedding(len(tgt_vocab), d_model)\n",
    "        self.positional_encoding = PositionalEncoding(d_model, dropout)\n",
    "        self.fc_out = nn.Linear(d_model, len(tgt_vocab))\n",
    "        self.src_vocab = src_vocab\n",
    "        self.tgt_vocab = tgt_vocab\n",
    "        self.d_model = d_model\n",
    "\n",
    "    def forward(self, src, tgt):\n",
    "        # 调整src和tgt的维度\n",
    "        src = src.transpose(0, 1)  # (seq_len, batch_size)\n",
    "        tgt = tgt.transpose(0, 1)  # (seq_len, batch_size)\n",
    "\n",
    "        src_mask = self.transformer.generate_square_subsequent_mask(src.size(0)).to(src.device)\n",
    "        tgt_mask = self.transformer.generate_square_subsequent_mask(tgt.size(0)).to(tgt.device)\n",
    "\n",
    "        src_padding_mask = (src == self.src_vocab['<pad>']).transpose(0, 1)\n",
    "        tgt_padding_mask = (tgt == self.tgt_vocab['<pad>']).transpose(0, 1)\n",
    "\n",
    "        src_embedded = self.positional_encoding(self.src_embedding(src) * math.sqrt(self.d_model))\n",
    "        tgt_embedded = self.positional_encoding(self.tgt_embedding(tgt) * math.sqrt(self.d_model))\n",
    "\n",
    "        output = self.transformer(src_embedded, tgt_embedded,\n",
    "                                  src_mask, tgt_mask, None, src_padding_mask, tgt_padding_mask, src_padding_mask)\n",
    "        return self.fc_out(output).transpose(0, 1)"
   ]
  },
  {
   "cell_type": "code",
   "execution_count": 12,
   "metadata": {
    "execution": {
     "iopub.execute_input": "2024-07-19T06:20:42.006552Z",
     "iopub.status.busy": "2024-07-19T06:20:42.006316Z",
     "iopub.status.idle": "2024-07-19T06:20:42.010422Z",
     "shell.execute_reply": "2024-07-19T06:20:42.009943Z",
     "shell.execute_reply.started": "2024-07-19T06:20:42.006534Z"
    }
   },
   "outputs": [],
   "source": [
    "def initialize_model(src_vocab, tgt_vocab, d_model=512, nhead=8, num_encoder_layers=6, num_decoder_layers=6, dim_feedforward=2048, dropout=0.1):\n",
    "    model = TransformerModel(src_vocab, tgt_vocab, d_model, nhead, num_encoder_layers, num_decoder_layers, dim_feedforward, dropout)\n",
    "    return model"
   ]
  },
  {
   "cell_type": "markdown",
   "metadata": {},
   "source": [
    "## 训练"
   ]
  },
  {
   "cell_type": "code",
   "execution_count": 13,
   "metadata": {
    "ExecutionIndicator": {
     "show": true
    },
    "execution": {
     "iopub.execute_input": "2024-07-19T06:20:42.011326Z",
     "iopub.status.busy": "2024-07-19T06:20:42.011107Z",
     "iopub.status.idle": "2024-07-19T06:20:42.014366Z",
     "shell.execute_reply": "2024-07-19T06:20:42.013930Z",
     "shell.execute_reply.started": "2024-07-19T06:20:42.011309Z"
    },
    "tags": []
   },
   "outputs": [],
   "source": [
    "# # 定义优化器\n",
    "# def initialize_optimizer(model, learning_rate=0.001):\n",
    "#     return optim.Adam(model.parameters(), lr=learning_rate)"
   ]
  },
  {
   "cell_type": "code",
   "execution_count": 14,
   "metadata": {
    "ExecutionIndicator": {
     "show": true
    },
    "execution": {
     "iopub.execute_input": "2024-07-19T06:20:42.015142Z",
     "iopub.status.busy": "2024-07-19T06:20:42.014989Z",
     "iopub.status.idle": "2024-07-19T06:20:42.019491Z",
     "shell.execute_reply": "2024-07-19T06:20:42.018934Z",
     "shell.execute_reply.started": "2024-07-19T06:20:42.015126Z"
    },
    "tags": []
   },
   "outputs": [],
   "source": [
    "import torch.optim as optim\n",
    "\n",
    "class NoamLR:\n",
    "    def __init__(self, optimizer, model_size, warmup_steps, factor=1.0):\n",
    "        self.optimizer = optimizer\n",
    "        self.model_size = model_size\n",
    "        self.warmup_steps = warmup_steps\n",
    "        self.factor = factor\n",
    "        self.step_num = 0\n",
    "\n",
    "    def step(self):\n",
    "        self.step_num += 1\n",
    "        lr = self.factor * (self.model_size ** (-0.5) *\n",
    "                            min(self.step_num ** (-0.5), self.step_num * self.warmup_steps ** (-1.5)))\n",
    "        for param_group in self.optimizer.param_groups:\n",
    "            param_group['lr'] = lr\n",
    "\n",
    "# 使用示例\n",
    "# optimizer = optim.Adam(model.parameters(), lr=0.001)\n",
    "# noam_lr_scheduler = NoamLR(optimizer, model_size=1024, warmup_steps=5, factor=0.25)\n"
   ]
  },
  {
   "cell_type": "code",
   "execution_count": 15,
   "metadata": {
    "execution": {
     "iopub.execute_input": "2024-07-19T06:20:42.020376Z",
     "iopub.status.busy": "2024-07-19T06:20:42.020164Z",
     "iopub.status.idle": "2024-07-19T06:20:42.023440Z",
     "shell.execute_reply": "2024-07-19T06:20:42.022930Z",
     "shell.execute_reply.started": "2024-07-19T06:20:42.020359Z"
    }
   },
   "outputs": [],
   "source": [
    "# 运行时间\n",
    "def epoch_time(start_time, end_time):\n",
    "    elapsed_time = end_time - start_time\n",
    "    elapsed_mins = int(elapsed_time / 60)\n",
    "    elapsed_secs = int(elapsed_time - (elapsed_mins * 60))\n",
    "    return elapsed_mins, elapsed_secs"
   ]
  },
  {
   "cell_type": "code",
   "execution_count": 16,
   "metadata": {
    "ExecutionIndicator": {
     "show": true
    },
    "execution": {
     "iopub.execute_input": "2024-07-19T06:20:42.024263Z",
     "iopub.status.busy": "2024-07-19T06:20:42.024064Z",
     "iopub.status.idle": "2024-07-19T06:20:42.030356Z",
     "shell.execute_reply": "2024-07-19T06:20:42.029929Z",
     "shell.execute_reply.started": "2024-07-19T06:20:42.024246Z"
    },
    "tags": []
   },
   "outputs": [],
   "source": [
    "def train(model, iterator, optimizer, noam_lr_scheduler, criterion, clip):\n",
    "    model.train()\n",
    "    epoch_loss = 0\n",
    "    \n",
    "    for i, batch in enumerate(iterator):\n",
    "        src, tgt = batch\n",
    "        if src.numel() == 0 or tgt.numel() == 0:\n",
    "            continue\n",
    "        \n",
    "        src, tgt = src.to(DEVICE), tgt.to(DEVICE)\n",
    "        \n",
    "        optimizer.zero_grad()\n",
    "        output = model(src, tgt[:, :-1])\n",
    "        \n",
    "        output_dim = output.shape[-1]\n",
    "        output = output.contiguous().view(-1, output_dim)\n",
    "        tgt = tgt[:, 1:].contiguous().view(-1)\n",
    "        \n",
    "        loss = criterion(output, tgt)\n",
    "        loss.backward()\n",
    "        \n",
    "        clip_grad_norm_(model.parameters(), clip)\n",
    "        optimizer.step()\n",
    "        noam_lr_scheduler.step()\n",
    "        \n",
    "        epoch_loss += loss.item()\n",
    "\n",
    "    return epoch_loss / len(iterator)\n",
    "\n",
    "def evaluate(model, iterator, criterion):\n",
    "    model.eval()\n",
    "    epoch_loss = 0\n",
    "    with torch.no_grad():\n",
    "        for i, batch in enumerate(iterator):\n",
    "            src, tgt = batch\n",
    "            if src.numel() == 0 or tgt.numel() == 0:\n",
    "                continue\n",
    "            \n",
    "            src, tgt = src.to(DEVICE), tgt.to(DEVICE)\n",
    "            \n",
    "            output = model(src, tgt[:, :-1])\n",
    "            \n",
    "            output_dim = output.shape[-1]\n",
    "            output = output.contiguous().view(-1, output_dim)\n",
    "            tgt = tgt[:, 1:].contiguous().view(-1)\n",
    "            \n",
    "            loss = criterion(output, tgt)\n",
    "            epoch_loss += loss.item()\n",
    "        \n",
    "    return epoch_loss / len(iterator)"
   ]
  },
  {
   "cell_type": "code",
   "execution_count": 17,
   "metadata": {
    "execution": {
     "iopub.execute_input": "2024-07-19T06:20:42.031465Z",
     "iopub.status.busy": "2024-07-19T06:20:42.031000Z",
     "iopub.status.idle": "2024-07-19T06:20:42.036431Z",
     "shell.execute_reply": "2024-07-19T06:20:42.035926Z",
     "shell.execute_reply.started": "2024-07-19T06:20:42.031447Z"
    }
   },
   "outputs": [],
   "source": [
    "def translate_sentence(src_indexes, src_vocab, tgt_vocab, model, device, max_length=50):\n",
    "    model.eval()\n",
    "    \n",
    "    src_tensor = src_indexes.unsqueeze(0).to(device)  # 添加批次维度\n",
    "    \n",
    "    with torch.no_grad():\n",
    "        encoder_outputs = model.transformer.encoder(model.positional_encoding(model.src_embedding(src_tensor) * math.sqrt(model.d_model)))\n",
    "\n",
    "    trg_indexes = [tgt_vocab['<bos>']]\n",
    "    for i in range(max_length):\n",
    "        trg_tensor = torch.LongTensor(trg_indexes).unsqueeze(0).to(device)\n",
    "        \n",
    "        with torch.no_grad():\n",
    "            output = model(src_tensor, trg_tensor)\n",
    "        \n",
    "        pred_token = output.argmax(2)[:, -1].item()\n",
    "        trg_indexes.append(pred_token)\n",
    "        \n",
    "        if pred_token == tgt_vocab['<eos>']:\n",
    "            break\n",
    "    \n",
    "    trg_tokens = [tgt_vocab.get_itos()[i] for i in trg_indexes]\n",
    "    return trg_tokens[1:-1]  # 移除<bos>和<eos>标记"
   ]
  },
  {
   "cell_type": "code",
   "execution_count": 18,
   "metadata": {
    "execution": {
     "iopub.execute_input": "2024-07-19T06:20:42.037231Z",
     "iopub.status.busy": "2024-07-19T06:20:42.037021Z",
     "iopub.status.idle": "2024-07-19T06:20:42.041423Z",
     "shell.execute_reply": "2024-07-19T06:20:42.040929Z",
     "shell.execute_reply.started": "2024-07-19T06:20:42.037214Z"
    }
   },
   "outputs": [],
   "source": [
    "def calculate_bleu(dev_loader, src_vocab, tgt_vocab, model, device):\n",
    "    model.eval()\n",
    "    translations = []\n",
    "    references = []\n",
    "    \n",
    "    with torch.no_grad():\n",
    "        for src, tgt in dev_loader:\n",
    "            src = src.to(device)\n",
    "            for sentence in src:\n",
    "                translated = translate_sentence(sentence, src_vocab, tgt_vocab, model, device)\n",
    "                translations.append(' '.join(translated))\n",
    "            \n",
    "            for reference in tgt:\n",
    "                ref_tokens = [tgt_vocab.get_itos()[idx] for idx in reference if idx not in [tgt_vocab['<bos>'], tgt_vocab['<eos>'], tgt_vocab['<pad>']]]\n",
    "                references.append([' '.join(ref_tokens)])\n",
    "    \n",
    "    bleu = sacrebleu.corpus_bleu(translations, references)\n",
    "    return bleu.score"
   ]
  },
  {
   "cell_type": "code",
   "execution_count": 19,
   "metadata": {
    "ExecutionIndicator": {
     "show": true
    },
    "execution": {
     "iopub.execute_input": "2024-07-19T06:20:42.042218Z",
     "iopub.status.busy": "2024-07-19T06:20:42.042022Z",
     "iopub.status.idle": "2024-07-19T06:20:42.046411Z",
     "shell.execute_reply": "2024-07-19T06:20:42.045925Z",
     "shell.execute_reply.started": "2024-07-19T06:20:42.042203Z"
    },
    "tags": []
   },
   "outputs": [],
   "source": [
    "# 主训练循环\n",
    "def train_model(model, train_iterator, valid_iterator, optimizer, noam_lr_scheduler, criterion, N_EPOCHS=10, CLIP=1, save_path = '../model/best-model_transformer.pt'):\n",
    "    best_valid_loss = float('inf')\n",
    "    \n",
    "    for epoch in range(N_EPOCHS):\n",
    "        start_time = time.time()\n",
    "        \n",
    "        #print(f\"Starting Epoch {epoch + 1}\")\n",
    "        train_loss = train(model, train_iterator, optimizer, noam_lr_scheduler, criterion, CLIP)\n",
    "        valid_loss = evaluate(model, valid_iterator, criterion)\n",
    "        \n",
    "        end_time = time.time()\n",
    "        epoch_mins, epoch_secs = epoch_time(start_time, end_time)\n",
    "        \n",
    "        if valid_loss < best_valid_loss:\n",
    "            best_valid_loss = valid_loss\n",
    "            torch.save(model.state_dict(), save_path)\n",
    "        \n",
    "        print(f'Epoch: {epoch+1:02} | Time: {epoch_mins}m {epoch_secs}s')\n",
    "        print(f'\\tTrain Loss: {train_loss:.3f} | Train PPL: {math.exp(train_loss):7.3f}')\n",
    "        print(f'\\t Val. Loss: {valid_loss:.3f} |  Val. PPL: {math.exp(valid_loss):7.3f}')\n",
    "    "
   ]
  },
  {
   "cell_type": "code",
   "execution_count": 20,
   "metadata": {
    "ExecutionIndicator": {
     "show": true
    },
    "execution": {
     "iopub.execute_input": "2024-07-19T06:20:42.047193Z",
     "iopub.status.busy": "2024-07-19T06:20:42.046994Z",
     "iopub.status.idle": "2024-07-19T06:21:09.292312Z",
     "shell.execute_reply": "2024-07-19T06:21:09.291809Z",
     "shell.execute_reply.started": "2024-07-19T06:20:42.047177Z"
    },
    "tags": []
   },
   "outputs": [
    {
     "name": "stderr",
     "output_type": "stream",
     "text": [
      "Building prefix dict from the default dictionary ...\n",
      "Loading model from cache /tmp/jieba.cache\n",
      "Loading model cost 0.647 seconds.\n",
      "Prefix dict has been built successfully.\n"
     ]
    },
    {
     "name": "stdout",
     "output_type": "stream",
     "text": [
      "英语词汇表大小: 44850\n",
      "中文词汇表大小: 74341\n",
      "训练集大小: 148000\n",
      "开发集大小: 1000\n",
      "测试集大小: 1000\n"
     ]
    }
   ],
   "source": [
    "# 定义常量\n",
    "MAX_LENGTH = 100    # 最大句子长度\n",
    "BATCH_SIZE = 32\n",
    "DEVICE = torch.device('cuda:0' if torch.cuda.is_available() else 'cpu')\n",
    "N = 148000  # 采样训练集的数量，最多148363  \n",
    "\n",
    "train_path = '../dataset/train.txt'\n",
    "dev_en_path = '../dataset/dev_en.txt'\n",
    "dev_zh_path = '../dataset/dev_zh.txt'\n",
    "test_en_path = '../dataset/test_en.txt'\n",
    "\n",
    "train_loader, dev_loader, test_loader, en_vocab, zh_vocab = load_data(\n",
    "    train_path, dev_en_path, dev_zh_path, test_en_path\n",
    ")\n",
    "\n",
    "\n",
    "print(f\"英语词汇表大小: {len(en_vocab)}\")\n",
    "print(f\"中文词汇表大小: {len(zh_vocab)}\")\n",
    "print(f\"训练集大小: {len(train_loader.dataset)}\")\n",
    "print(f\"开发集大小: {len(dev_loader.dataset)}\")\n",
    "print(f\"测试集大小: {len(test_loader.dataset)}\")"
   ]
  },
  {
   "cell_type": "code",
   "execution_count": 21,
   "metadata": {
    "ExecutionIndicator": {
     "show": true
    },
    "execution": {
     "iopub.execute_input": "2024-07-19T06:21:09.293240Z",
     "iopub.status.busy": "2024-07-19T06:21:09.293015Z",
     "iopub.status.idle": "2024-07-19T10:20:43.695079Z",
     "shell.execute_reply": "2024-07-19T10:20:43.694439Z",
     "shell.execute_reply.started": "2024-07-19T06:21:09.293222Z"
    },
    "tags": []
   },
   "outputs": [
    {
     "name": "stderr",
     "output_type": "stream",
     "text": [
      "/usr/local/lib/python3.10/site-packages/torch/nn/modules/transformer.py:306: UserWarning: enable_nested_tensor is True, but self.use_nested_tensor is False because encoder_layer.self_attn.batch_first was not True(use batch_first for better inference performance)\n",
      "  warnings.warn(f\"enable_nested_tensor is True, but self.use_nested_tensor is False because {why_not_sparsity_fast_path}\")\n"
     ]
    },
    {
     "name": "stdout",
     "output_type": "stream",
     "text": [
      "The model has 53,573,221 trainable parameters\n"
     ]
    },
    {
     "name": "stderr",
     "output_type": "stream",
     "text": [
      "/usr/local/lib/python3.10/site-packages/torch/nn/functional.py:5137: UserWarning: Support for mismatched src_key_padding_mask and mask is deprecated. Use same type for both instead.\n",
      "  warnings.warn(\n",
      "/usr/local/lib/python3.10/site-packages/torch/nn/functional.py:5137: UserWarning: Support for mismatched key_padding_mask and attn_mask is deprecated. Use same type for both instead.\n",
      "  warnings.warn(\n"
     ]
    },
    {
     "name": "stdout",
     "output_type": "stream",
     "text": [
      "Epoch: 01 | Time: 4m 46s\n",
      "\tTrain Loss: 6.140 | Train PPL: 464.021\n",
      "\t Val. Loss: 5.980 |  Val. PPL: 395.384\n",
      "Epoch: 02 | Time: 4m 45s\n",
      "\tTrain Loss: 5.552 | Train PPL: 257.645\n",
      "\t Val. Loss: 5.688 |  Val. PPL: 295.201\n",
      "Epoch: 03 | Time: 4m 46s\n",
      "\tTrain Loss: 5.300 | Train PPL: 200.391\n",
      "\t Val. Loss: 5.518 |  Val. PPL: 249.080\n",
      "Epoch: 04 | Time: 4m 46s\n",
      "\tTrain Loss: 5.130 | Train PPL: 169.037\n",
      "\t Val. Loss: 5.386 |  Val. PPL: 218.359\n",
      "Epoch: 05 | Time: 4m 46s\n",
      "\tTrain Loss: 5.000 | Train PPL: 148.463\n",
      "\t Val. Loss: 5.281 |  Val. PPL: 196.522\n",
      "Epoch: 06 | Time: 4m 46s\n",
      "\tTrain Loss: 4.888 | Train PPL: 132.749\n",
      "\t Val. Loss: 5.193 |  Val. PPL: 179.957\n",
      "Epoch: 07 | Time: 4m 45s\n",
      "\tTrain Loss: 4.794 | Train PPL: 120.780\n",
      "\t Val. Loss: 5.112 |  Val. PPL: 166.077\n",
      "Epoch: 08 | Time: 4m 45s\n",
      "\tTrain Loss: 4.709 | Train PPL: 110.963\n",
      "\t Val. Loss: 5.040 |  Val. PPL: 154.541\n",
      "Epoch: 09 | Time: 4m 46s\n",
      "\tTrain Loss: 4.634 | Train PPL: 102.905\n",
      "\t Val. Loss: 4.987 |  Val. PPL: 146.470\n",
      "Epoch: 10 | Time: 4m 49s\n",
      "\tTrain Loss: 4.565 | Train PPL:  96.048\n",
      "\t Val. Loss: 4.933 |  Val. PPL: 138.865\n",
      "Epoch: 11 | Time: 5m 10s\n",
      "\tTrain Loss: 4.503 | Train PPL:  90.262\n",
      "\t Val. Loss: 4.884 |  Val. PPL: 132.183\n",
      "Epoch: 12 | Time: 4m 46s\n",
      "\tTrain Loss: 4.445 | Train PPL:  85.182\n",
      "\t Val. Loss: 4.838 |  Val. PPL: 126.207\n",
      "Epoch: 13 | Time: 4m 46s\n",
      "\tTrain Loss: 4.390 | Train PPL:  80.654\n",
      "\t Val. Loss: 4.798 |  Val. PPL: 121.264\n",
      "Epoch: 14 | Time: 4m 45s\n",
      "\tTrain Loss: 4.339 | Train PPL:  76.630\n",
      "\t Val. Loss: 4.759 |  Val. PPL: 116.624\n",
      "Epoch: 15 | Time: 4m 46s\n",
      "\tTrain Loss: 4.291 | Train PPL:  73.042\n",
      "\t Val. Loss: 4.722 |  Val. PPL: 112.398\n",
      "Epoch: 16 | Time: 4m 46s\n",
      "\tTrain Loss: 4.246 | Train PPL:  69.859\n",
      "\t Val. Loss: 4.688 |  Val. PPL: 108.669\n",
      "Epoch: 17 | Time: 4m 45s\n",
      "\tTrain Loss: 4.204 | Train PPL:  66.958\n",
      "\t Val. Loss: 4.663 |  Val. PPL: 105.908\n",
      "Epoch: 18 | Time: 4m 46s\n",
      "\tTrain Loss: 4.163 | Train PPL:  64.291\n",
      "\t Val. Loss: 4.636 |  Val. PPL: 103.144\n",
      "Epoch: 19 | Time: 4m 46s\n",
      "\tTrain Loss: 4.124 | Train PPL:  61.835\n",
      "\t Val. Loss: 4.613 |  Val. PPL: 100.737\n",
      "Epoch: 20 | Time: 4m 46s\n",
      "\tTrain Loss: 4.088 | Train PPL:  59.611\n",
      "\t Val. Loss: 4.581 |  Val. PPL:  97.632\n",
      "Epoch: 21 | Time: 4m 45s\n",
      "\tTrain Loss: 4.053 | Train PPL:  57.542\n",
      "\t Val. Loss: 4.558 |  Val. PPL:  95.357\n",
      "Epoch: 22 | Time: 4m 46s\n",
      "\tTrain Loss: 4.020 | Train PPL:  55.707\n",
      "\t Val. Loss: 4.538 |  Val. PPL:  93.504\n",
      "Epoch: 23 | Time: 4m 46s\n",
      "\tTrain Loss: 3.986 | Train PPL:  53.822\n",
      "\t Val. Loss: 4.516 |  Val. PPL:  91.499\n",
      "Epoch: 24 | Time: 4m 45s\n",
      "\tTrain Loss: 3.955 | Train PPL:  52.211\n",
      "\t Val. Loss: 4.495 |  Val. PPL:  89.532\n",
      "Epoch: 25 | Time: 4m 45s\n",
      "\tTrain Loss: 3.925 | Train PPL:  50.648\n",
      "\t Val. Loss: 4.474 |  Val. PPL:  87.739\n",
      "Epoch: 26 | Time: 4m 47s\n",
      "\tTrain Loss: 3.896 | Train PPL:  49.206\n",
      "\t Val. Loss: 4.464 |  Val. PPL:  86.871\n",
      "Epoch: 27 | Time: 4m 46s\n",
      "\tTrain Loss: 3.869 | Train PPL:  47.893\n",
      "\t Val. Loss: 4.445 |  Val. PPL:  85.219\n",
      "Epoch: 28 | Time: 4m 46s\n",
      "\tTrain Loss: 3.842 | Train PPL:  46.617\n",
      "\t Val. Loss: 4.427 |  Val. PPL:  83.681\n",
      "Epoch: 29 | Time: 4m 46s\n",
      "\tTrain Loss: 3.817 | Train PPL:  45.453\n",
      "\t Val. Loss: 4.408 |  Val. PPL:  82.108\n",
      "Epoch: 30 | Time: 4m 46s\n",
      "\tTrain Loss: 3.790 | Train PPL:  44.269\n",
      "\t Val. Loss: 4.393 |  Val. PPL:  80.921\n",
      "Epoch: 31 | Time: 4m 45s\n",
      "\tTrain Loss: 3.766 | Train PPL:  43.215\n",
      "\t Val. Loss: 4.379 |  Val. PPL:  79.737\n",
      "Epoch: 32 | Time: 4m 47s\n",
      "\tTrain Loss: 3.743 | Train PPL:  42.204\n",
      "\t Val. Loss: 4.367 |  Val. PPL:  78.789\n",
      "Epoch: 33 | Time: 4m 46s\n",
      "\tTrain Loss: 3.719 | Train PPL:  41.220\n",
      "\t Val. Loss: 4.357 |  Val. PPL:  78.041\n",
      "Epoch: 34 | Time: 4m 46s\n",
      "\tTrain Loss: 3.698 | Train PPL:  40.368\n",
      "\t Val. Loss: 4.348 |  Val. PPL:  77.307\n",
      "Epoch: 35 | Time: 4m 46s\n",
      "\tTrain Loss: 3.675 | Train PPL:  39.450\n",
      "\t Val. Loss: 4.329 |  Val. PPL:  75.888\n",
      "Epoch: 36 | Time: 4m 46s\n",
      "\tTrain Loss: 3.655 | Train PPL:  38.666\n",
      "\t Val. Loss: 4.320 |  Val. PPL:  75.192\n",
      "Epoch: 37 | Time: 4m 46s\n",
      "\tTrain Loss: 3.635 | Train PPL:  37.906\n",
      "\t Val. Loss: 4.309 |  Val. PPL:  74.394\n",
      "Epoch: 38 | Time: 4m 46s\n",
      "\tTrain Loss: 3.614 | Train PPL:  37.124\n",
      "\t Val. Loss: 4.300 |  Val. PPL:  73.673\n",
      "Epoch: 47 | Time: 4m 45s\n",
      "\tTrain Loss: 3.458 | Train PPL:  31.751\n",
      "\t Val. Loss: 4.224 |  Val. PPL:  68.286\n",
      "Epoch: 48 | Time: 4m 46s\n",
      "\tTrain Loss: 3.441 | Train PPL:  31.232\n",
      "\t Val. Loss: 4.218 |  Val. PPL:  67.875\n",
      "Epoch: 49 | Time: 4m 46s\n",
      "\tTrain Loss: 3.427 | Train PPL:  30.778\n",
      "\t Val. Loss: 4.210 |  Val. PPL:  67.345\n",
      "Epoch: 50 | Time: 4m 46s\n",
      "\tTrain Loss: 3.412 | Train PPL:  30.311\n",
      "\t Val. Loss: 4.205 |  Val. PPL:  67.044\n",
      "训练完成！模型已保存到：../model/best-model_transformer.pt\n"
     ]
    }
   ],
   "source": [
    "# 主函数    \n",
    "if __name__ == '__main__':\n",
    "    \n",
    "    # 模型参数\n",
    "    D_MODEL = 256\n",
    "    NHEAD = 8\n",
    "    NUM_ENCODER_LAYERS = 3\n",
    "    NUM_DECODER_LAYERS = 3\n",
    "    DIM_FEEDFORWARD = 512\n",
    "    DROPOUT = 0.1\n",
    "    \n",
    "    N_EPOCHS = 50\n",
    "    CLIP = 1\n",
    "\n",
    "    # 初始化模型\n",
    "    model = initialize_model(en_vocab, zh_vocab, D_MODEL, NHEAD, NUM_ENCODER_LAYERS, NUM_DECODER_LAYERS, DIM_FEEDFORWARD, DROPOUT).to(DEVICE)\n",
    "    print(f'The model has {sum(p.numel() for p in model.parameters() if p.requires_grad):,} trainable parameters')\n",
    "\n",
    "    # 定义损失函数\n",
    "    criterion = nn.CrossEntropyLoss(ignore_index=zh_vocab['<pad>'])\n",
    "    # 初始化优化器\n",
    "    #optimizer = optim.Adam(model.parameters(), lr=0.0001, betas=(0.9, 0.98), eps=1e-9)\n",
    "    optimizer = optim.Adam(model.parameters(), lr=0.0001)\n",
    "    noam_lr_scheduler = NoamLR(optimizer, model_size=1024, warmup_steps=5, factor=0.25)\n",
    "\n",
    "    # 训练模型\n",
    "    save_path = '../model/best-model_transformer.pt'\n",
    "    train_model(model, train_loader, dev_loader, optimizer, noam_lr_scheduler, criterion, N_EPOCHS, CLIP, save_path=save_path)\n",
    "\n",
    "    print(f\"训练完成！模型已保存到：{save_path}\")\n"
   ]
  },
  {
   "cell_type": "markdown",
   "metadata": {},
   "source": [
    "## 在开发集上进行评价"
   ]
  },
  {
   "cell_type": "code",
   "execution_count": 22,
   "metadata": {
    "execution": {
     "iopub.execute_input": "2024-07-19T10:20:43.698250Z",
     "iopub.status.busy": "2024-07-19T10:20:43.697865Z",
     "iopub.status.idle": "2024-07-19T10:20:43.700854Z",
     "shell.execute_reply": "2024-07-19T10:20:43.700422Z",
     "shell.execute_reply.started": "2024-07-19T10:20:43.698229Z"
    }
   },
   "outputs": [],
   "source": [
    "# model = initialize_model(en_vocab, zh_vocab, D_MODEL, NHEAD, NUM_ENCODER_LAYERS, NUM_DECODER_LAYERS, DIM_FEEDFORWARD, DROPOUT).to(DEVICE)\n",
    "\n",
    "# # 加载最佳模型\n",
    "# model.load_state_dict(torch.load('../model/best-model_transformer.pt'))\n",
    "\n",
    "# # 计算BLEU分数\n",
    "# bleu_score = calculate_bleu(dev_loader, en_vocab, zh_vocab, model, DEVICE)\n",
    "# print(f'BLEU score = {bleu_score*100:.2f}')"
   ]
  },
  {
   "cell_type": "markdown",
   "metadata": {},
   "source": [
    "## 对测试集进行翻译"
   ]
  },
  {
   "cell_type": "code",
   "execution_count": null,
   "metadata": {
    "execution": {
     "iopub.execute_input": "2024-07-19T10:20:43.707223Z",
     "iopub.status.busy": "2024-07-19T10:20:43.706941Z",
     "iopub.status.idle": "2024-07-19T10:20:43.941902Z"
    },
    "tags": []
   },
   "outputs": [
    {
     "data": {
      "text/plain": [
       "<All keys matched successfully>"
      ]
     },
     "execution_count": 23,
     "metadata": {},
     "output_type": "execute_result"
    }
   ],
   "source": [
    "# 加载最佳模型\n",
    "model.load_state_dict(torch.load('../model/best-model_transformer.pt'))"
   ]
  },
  {
   "cell_type": "code",
   "execution_count": null,
   "metadata": {
    "execution": {
     "iopub.execute_input": "2024-07-19T10:20:43.942846Z",
     "iopub.status.busy": "2024-07-19T10:20:43.942593Z",
     "iopub.status.idle": "2024-07-19T10:28:20.215430Z"
    }
   },
   "outputs": [
    {
     "name": "stdout",
     "output_type": "stream",
     "text": [
      "翻译完成，结果已保存到../results/submit_task3.txt\n"
     ]
    }
   ],
   "source": [
    "save_dir = '../results/submit_task3.txt'\n",
    "with open(save_dir, 'w') as f:\n",
    "    translated_sentences = []\n",
    "    for batch in test_loader:  # 遍历所有数据\n",
    "        src, _ = batch\n",
    "        src = src.to(DEVICE)\n",
    "        translated = translate_sentence(src[0], en_vocab, zh_vocab, model, DEVICE)  #翻译结果\n",
    "        results = \"\".join(translated)\n",
    "        f.write(results + '\\n')  # 将结果写入文件\n",
    "    print(f\"翻译完成，结果已保存到{save_dir}\")"
   ]
  },
  {
   "cell_type": "markdown",
   "metadata": {},
   "source": [
    "### 加入术语词典(demo)"
   ]
  },
  {
   "cell_type": "code",
   "execution_count": null,
   "metadata": {
    "execution": {
     "iopub.execute_input": "2024-07-19T10:28:20.216559Z",
     "iopub.status.busy": "2024-07-19T10:28:20.216130Z",
     "iopub.status.idle": "2024-07-19T10:28:20.220292Z"
    }
   },
   "outputs": [],
   "source": [
    "# 存储成字典\n",
    "def load_dictionary(dict_path):\n",
    "    term_dict = {}\n",
    "    with open(dict_path, 'r', encoding='utf-8') as f:\n",
    "        data = f.read()\n",
    "    data = data.strip().split('\\n')\n",
    "    source_term = [line.split('\\t')[0] for line in data]\n",
    "    target_term = [line.split('\\t')[1] for line in data]\n",
    "    for i in range(len(source_term)):\n",
    "        term_dict[source_term[i]] = target_term[i]\n",
    "    return term_dict\n",
    "\n",
    "def post_process_translation(translation, term_dict):\n",
    "    \"\"\" 使用术语词典进行后处理 \"\"\"\n",
    "    \n",
    "    translated_words = [term_dict.get(word, word) for word in translation]\n",
    "    return \"\".join(translated_words)"
   ]
  },
  {
   "cell_type": "code",
   "execution_count": null,
   "metadata": {
    "execution": {
     "iopub.execute_input": "2024-07-19T10:28:20.220982Z",
     "iopub.status.busy": "2024-07-19T10:28:20.220823Z",
     "iopub.status.idle": "2024-07-19T10:28:20.225271Z"
    }
   },
   "outputs": [],
   "source": [
    "# 加载你的术语词典\n",
    "dict_path = '../dataset/en-zh.dic'  # 这应该是你的术语词典文件路径\n",
    "term_dict = load_dictionary(dict_path)\n"
   ]
  },
  {
   "cell_type": "code",
   "execution_count": null,
   "metadata": {
    "execution": {
     "iopub.execute_input": "2024-07-19T10:28:20.226094Z",
     "iopub.status.busy": "2024-07-19T10:28:20.225802Z",
     "iopub.status.idle": "2024-07-19T10:35:57.720538Z"
    },
    "tags": []
   },
   "outputs": [
    {
     "name": "stdout",
     "output_type": "stream",
     "text": [
      "翻译完成，结果已保存到../results/submit_add_dict.txt\n"
     ]
    }
   ],
   "source": [
    "save_dir = '../results/submit_add_dict.txt'\n",
    "with open(save_dir, 'w') as f:\n",
    "    translated_sentences = []\n",
    "    for batch in test_loader:  # 遍历所有数据\n",
    "        src, _ = batch\n",
    "        src = src.to(DEVICE)\n",
    "        translated = translate_sentence(src[0], en_vocab, zh_vocab, model, DEVICE)  #翻译结果\n",
    "        results  = post_process_translation(translated, term_dict)\n",
    "        results = \"\".join(results)\n",
    "        f.write(results + '\\n')  # 将结果写入文件\n",
    "    \n",
    "    print(f\"翻译完成，结果已保存到{save_dir}\")"
   ]
  },
  {
   "cell_type": "markdown",
   "metadata": {},
   "source": []
  },
  {
   "cell_type": "code",
   "execution_count": null,
   "metadata": {},
   "outputs": [],
   "source": []
  }
 ],
 "metadata": {
  "kernelspec": {
   "display_name": "Python 3 (ipykernel)",
   "language": "python",
   "name": "python3"
  },
  "language_info": {
   "codemirror_mode": {
    "name": "ipython",
    "version": 3
   },
   "file_extension": ".py",
   "mimetype": "text/x-python",
   "name": "python",
   "nbconvert_exporter": "python",
   "pygments_lexer": "ipython3",
   "version": "3.10.14"
  }
 },
 "nbformat": 4,
 "nbformat_minor": 4
}
